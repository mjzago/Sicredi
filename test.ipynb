{
 "cells": [
  {
   "cell_type": "code",
   "execution_count": 9,
   "metadata": {},
   "outputs": [
    {
     "name": "stdout",
     "output_type": "stream",
     "text": [
      "Collecting deep-translator\n",
      "  Downloading deep_translator-1.11.4-py3-none-any.whl.metadata (30 kB)\n",
      "Requirement already satisfied: beautifulsoup4<5.0.0,>=4.9.1 in c:\\users\\mjzag\\appdata\\local\\programs\\python\\python311\\lib\\site-packages (from deep-translator) (4.12.2)\n",
      "Requirement already satisfied: requests<3.0.0,>=2.23.0 in c:\\users\\mjzag\\appdata\\local\\programs\\python\\python311\\lib\\site-packages (from deep-translator) (2.31.0)\n",
      "Requirement already satisfied: soupsieve>1.2 in c:\\users\\mjzag\\appdata\\local\\programs\\python\\python311\\lib\\site-packages (from beautifulsoup4<5.0.0,>=4.9.1->deep-translator) (2.4.1)\n",
      "Requirement already satisfied: charset-normalizer<4,>=2 in c:\\users\\mjzag\\appdata\\local\\programs\\python\\python311\\lib\\site-packages (from requests<3.0.0,>=2.23.0->deep-translator) (3.2.0)\n",
      "Requirement already satisfied: idna<4,>=2.5 in c:\\users\\mjzag\\appdata\\local\\programs\\python\\python311\\lib\\site-packages (from requests<3.0.0,>=2.23.0->deep-translator) (2.10)\n",
      "Requirement already satisfied: urllib3<3,>=1.21.1 in c:\\users\\mjzag\\appdata\\local\\programs\\python\\python311\\lib\\site-packages (from requests<3.0.0,>=2.23.0->deep-translator) (2.0.4)\n",
      "Requirement already satisfied: certifi>=2017.4.17 in c:\\users\\mjzag\\appdata\\local\\programs\\python\\python311\\lib\\site-packages (from requests<3.0.0,>=2.23.0->deep-translator) (2023.7.22)\n",
      "Downloading deep_translator-1.11.4-py3-none-any.whl (42 kB)\n",
      "   ---------------------------------------- 0.0/42.3 kB ? eta -:--:--\n",
      "   ---------------------------------------- 42.3/42.3 kB 2.1 MB/s eta 0:00:00\n",
      "Installing collected packages: deep-translator\n",
      "Successfully installed deep-translator-1.11.4\n",
      "Note: you may need to restart the kernel to use updated packages.\n"
     ]
    },
    {
     "name": "stderr",
     "output_type": "stream",
     "text": [
      "\n",
      "[notice] A new release of pip is available: 23.3.1 -> 24.0\n",
      "[notice] To update, run: python.exe -m pip install --upgrade pip\n"
     ]
    }
   ],
   "source": [
    "pip install deep-translator\n"
   ]
  },
  {
   "cell_type": "code",
   "execution_count": null,
   "metadata": {},
   "outputs": [],
   "source": [
    "import os\n",
    "\n",
    "# Diretórios de entrada e saída\n",
    "diretorio_entrada = 'data/nlp'\n",
    "diretorio_saida_normalizado = 'data/nlp_normalized'\n",
    "\n",
    "# Percorrer arquivos de texto no diretório de entrada\n",
    "for pasta_raiz, _, arquivos in os.walk(diretorio_entrada):\n",
    "    for arquivo in arquivos:\n",
    "        if arquivo.endswith('.txt'):\n",
    "            caminho_completo_entrada = os.path.join(pasta_raiz, arquivo)\n",
    "            caminho_completo_saida = os.path.join(pasta_raiz.replace(diretorio_entrada, diretorio_saida_normalizado), arquivo)\n",
    "\n",
    "            # Verificar se o arquivo já foi normalizado\n",
    "            if os.path.exists(caminho_completo_saida):\n",
    "                print(f\"O arquivo '{arquivo}' já foi normalizado. Pulando para o próximo arquivo.\")\n",
    "                continue\n",
    "\n",
    "            print(f\"Normalizando arquivo: {caminho_completo_entrada}\")\n",
    "\n",
    "            # Ler o conteúdo do arquivo de entrada\n",
    "            with open(caminho_completo_entrada, 'r', encoding='utf-8') as arquivo_entrada:\n",
    "                texto = arquivo_entrada.read()\n",
    "\n",
    "            # Remover quebras de linha e normalizar o texto\n",
    "            texto_normalizado = texto.replace('\\n', ' ')\n",
    "\n",
    "            # Criar diretório de saída se não existir\n",
    "            os.makedirs(os.path.dirname(caminho_completo_saida), exist_ok=True)\n",
    "\n",
    "            # Escrever o texto normalizado no arquivo de saída\n",
    "            with open(caminho_completo_saida, 'w', encoding='utf-8') as arquivo_saida:\n",
    "                arquivo_saida.write(texto_normalizado)\n",
    "\n",
    "            print(f\"Arquivo '{arquivo}' normalizado e salvo em: {caminho_completo_saida}\")\n"
   ]
  },
  {
   "cell_type": "code",
   "execution_count": 15,
   "metadata": {},
   "outputs": [
    {
     "name": "stdout",
     "output_type": "stream",
     "text": [
      "O arquivo 'ago-age_de_04042023_-_sicredi_coomamp.txt' já foi traduzido. Indo para o próximo arquivo.\n",
      "O arquivo 'ata_age_digital_2020-10906245163955933242.txt' já foi traduzido. Indo para o próximo arquivo.\n",
      "O arquivo 'ata_ago-age_2020_-_sicredi_coomamp-14269571789062083743.txt' já foi traduzido. Indo para o próximo arquivo.\n",
      "O arquivo 'ata_agoage_2022_-_sicredi_coomamp.txt' já foi traduzido. Indo para o próximo arquivo.\n",
      "O arquivo 'ata_ago_age_2018-5498222428478009411.txt' já foi traduzido. Indo para o próximo arquivo.\n",
      "O arquivo 'ata_de_homologacao-2409316498742798561.txt' já foi traduzido. Indo para o próximo arquivo.\n",
      "O arquivo 'chapas_inscritas-7992939441822030231.txt' já foi traduzido. Indo para o próximo arquivo.\n",
      "O arquivo 'edital-de-convocacao-ago-age-2020-9922671639141617290.txt' já foi traduzido. Indo para o próximo arquivo.\n",
      "O arquivo 'edital_age__presencial_maio2023.txt' já foi traduzido. Indo para o próximo arquivo.\n",
      "O arquivo 'edital_ago-age_-_2022-5192814098258424985.txt' já foi traduzido. Indo para o próximo arquivo.\n",
      "O arquivo 'edital_agoage__virtual_2023.txt' já foi traduzido. Indo para o próximo arquivo.\n",
      "O arquivo 'edital_ago_-_age_-_sicredi_coomamp_-_2021-3606688643084409760.txt' já foi traduzido. Indo para o próximo arquivo.\n",
      "O arquivo 'inf901005545390122022_2002-manifesto.txt' já foi traduzido. Indo para o próximo arquivo.\n",
      "O arquivo 'relatorio_2021_-_sicredi_coomamp-7845100396790685305.txt' já foi traduzido. Indo para o próximo arquivo.\n",
      "O arquivo 'relatorio_sicredi_coomamp_-2022.txt' já foi traduzido. Indo para o próximo arquivo.\n",
      "Traduzindo arquivo: data/nlp_normalized\\CC SICREDI COOMAMP\\sicredi_coomamp_122021-15867711859122017097.txt\n"
     ]
    },
    {
     "ename": "NotValidLength",
     "evalue": "111                                     Depreciação e amortização 114                              234                              238                                     Baixas do ativo permanente 24                                 25                                 5                                          Destinações ao FATES (52)                               (52)                               (135)                                VARIAÇÃO DE ATIVOS E PASSIVOS (2.099)                          (3.726)                          8.402                                (Aumento) Redução em operações de crédito (4.165)                          (6.471)                          3.285                                (Redução) em relações interfinanceiras passivas (79)                               - -     (Aumento) em outros ativos financeiros (892)                             (950)                             (774)                                  (Aumento) Redução em outros ativos (99)                               (182)                             68                                      Aumento em depósitos 1.861                           3.052                           5.995                                Aumento (Redução) em passivos financeiros (50)                               (11)                               11                                      (Redução) em obrigações por empréstimos e repasses (358)                             (879)                             (1.308)                                 Provisão para riscos cíveis, tributários e trabalhistas -                               188                              -                                    Absorção de dispêndios pelo FATES (6)                                  (12)                               (15)                                    Aumento em outros passivos 1.689                           1.539                           1.140                              ATIVIDADES OPERACIONAIS - Caixa líquido proveniente/(aplicado) (1.426)                          (2.590)                          10.329                              Aquisição de investimentos - (50)                               (121)                                  Aquisição de imobilizado de uso (2)                                  (90)                               (24)                                    Aplicações no intangível (24)                               (46)                               (23)                                  ATIVIDADES DE INVESTIMENTOS - Caixa líquido proveniente/(aplicado) (26)                               (186)                             (168)                                  Integralização de capital 689                              1.380                           1.377                                Baixa de capital (225)                             (1.001)                          (876)                                  Juros ao capital próprio (24)                               (24)                               (55)                                    Distribuição de Sobras 46                                 (1.031)                          (935)                                ATIVIDADES DE FINANCIAMENTOS - Caixa líquido proveniente/(aplicado) 486                              (676)                             (489)                                AUMENTO/DIMINUIÇÃO LÍQUIDA DE CAIXA E EQUIVALENTE DE CAIXA (966)                             (3.452)                          9.672                              Caixa e equivalente de caixa no início do período 15.329                         17.815                         8.143                              Caixa e equivalente de caixa no fim do período        (Nota 04) 14.363                         14.363                         17.815                          As notas explicativas são parte integrante das Demonstrações FinanceirasDEMONSTRAÇÕES DOS FLUXOS DE CAIXA (Em milhares de Reais) Sicredi Coomamp - Coop de Crédito dos Memb de Insti Pub das Carreiras Jurid e Serv Pub Fed Estad e Munic em São  Luís/MA e Municípios Circunvizinhos CNPJ/MF nº 05.545.390/0001-0701/07/2021 a 31/12/2021  (Não  auditado)01/01/2021 a 31/12/2021 01/01/2020 a 31/12/2020 Resultado líquido do exercício 677                                                    1.201                                                 1.708                                                  Outros resultados abrangentes -                                                     -                                                     -                                                      Resultado abrangente atribuível 677                                                    1.201                                                 1.708                                                  As notas explicativas são parte integrante das Demonstrações FinanceirasDEMONSTRAÇÕES DOS RESULTADOS ABRANGENTES (Em milhares de Reais) Sicredi Coomamp - Coop de Crédito dos Memb de Insti --> Text length need to be between 0 and 5000 characters",
     "output_type": "error",
     "traceback": [
      "\u001b[1;31m---------------------------------------------------------------------------\u001b[0m",
      "\u001b[1;31mNotValidLength\u001b[0m                            Traceback (most recent call last)",
      "Cell \u001b[1;32mIn[15], line 39\u001b[0m\n\u001b[0;32m     37\u001b[0m chunks_traduzidos \u001b[39m=\u001b[39m []\n\u001b[0;32m     38\u001b[0m \u001b[39mfor\u001b[39;00m chunk \u001b[39min\u001b[39;00m chunks_texto:\n\u001b[1;32m---> 39\u001b[0m     chunk_traduzido \u001b[39m=\u001b[39m tradutor\u001b[39m.\u001b[39;49mtranslate(chunk)\n\u001b[0;32m     40\u001b[0m     chunks_traduzidos\u001b[39m.\u001b[39mappend(chunk_traduzido)\n\u001b[0;32m     42\u001b[0m texto_traduzido \u001b[39m=\u001b[39m \u001b[39m'\u001b[39m\u001b[39m \u001b[39m\u001b[39m'\u001b[39m\u001b[39m.\u001b[39mjoin(chunks_traduzidos)\n",
      "File \u001b[1;32mc:\\Users\\mjzag\\AppData\\Local\\Programs\\Python\\Python311\\Lib\\site-packages\\deep_translator\\google.py:57\u001b[0m, in \u001b[0;36mGoogleTranslator.translate\u001b[1;34m(self, text, **kwargs)\u001b[0m\n\u001b[0;32m     51\u001b[0m \u001b[39mdef\u001b[39;00m \u001b[39mtranslate\u001b[39m(\u001b[39mself\u001b[39m, text: \u001b[39mstr\u001b[39m, \u001b[39m*\u001b[39m\u001b[39m*\u001b[39mkwargs) \u001b[39m-\u001b[39m\u001b[39m>\u001b[39m \u001b[39mstr\u001b[39m:\n\u001b[0;32m     52\u001b[0m \u001b[39m    \u001b[39m\u001b[39m\"\"\"\u001b[39;00m\n\u001b[0;32m     53\u001b[0m \u001b[39m    function to translate a text\u001b[39;00m\n\u001b[0;32m     54\u001b[0m \u001b[39m    @param text: desired text to translate\u001b[39;00m\n\u001b[0;32m     55\u001b[0m \u001b[39m    @return: str: translated text\u001b[39;00m\n\u001b[0;32m     56\u001b[0m \u001b[39m    \"\"\"\u001b[39;00m\n\u001b[1;32m---> 57\u001b[0m     \u001b[39mif\u001b[39;00m is_input_valid(text, max_chars\u001b[39m=\u001b[39;49m\u001b[39m5000\u001b[39;49m):\n\u001b[0;32m     58\u001b[0m         text \u001b[39m=\u001b[39m text\u001b[39m.\u001b[39mstrip()\n\u001b[0;32m     59\u001b[0m         \u001b[39mif\u001b[39;00m \u001b[39mself\u001b[39m\u001b[39m.\u001b[39m_same_source_target() \u001b[39mor\u001b[39;00m is_empty(text):\n",
      "File \u001b[1;32mc:\\Users\\mjzag\\AppData\\Local\\Programs\\Python\\Python311\\Lib\\site-packages\\deep_translator\\validate.py:41\u001b[0m, in \u001b[0;36mis_input_valid\u001b[1;34m(text, min_chars, max_chars)\u001b[0m\n\u001b[0;32m     39\u001b[0m     \u001b[39mraise\u001b[39;00m NotValidPayload(text)\n\u001b[0;32m     40\u001b[0m \u001b[39mif\u001b[39;00m max_chars \u001b[39mand\u001b[39;00m (\u001b[39mnot\u001b[39;00m min_chars \u001b[39m<\u001b[39m\u001b[39m=\u001b[39m \u001b[39mlen\u001b[39m(text) \u001b[39m<\u001b[39m max_chars):\n\u001b[1;32m---> 41\u001b[0m     \u001b[39mraise\u001b[39;00m NotValidLength(text, min_chars, max_chars)\n\u001b[0;32m     43\u001b[0m \u001b[39mreturn\u001b[39;00m \u001b[39mTrue\u001b[39;00m\n",
      "\u001b[1;31mNotValidLength\u001b[0m: 111                                     Depreciação e amortização 114                              234                              238                                     Baixas do ativo permanente 24                                 25                                 5                                          Destinações ao FATES (52)                               (52)                               (135)                                VARIAÇÃO DE ATIVOS E PASSIVOS (2.099)                          (3.726)                          8.402                                (Aumento) Redução em operações de crédito (4.165)                          (6.471)                          3.285                                (Redução) em relações interfinanceiras passivas (79)                               - -     (Aumento) em outros ativos financeiros (892)                             (950)                             (774)                                  (Aumento) Redução em outros ativos (99)                               (182)                             68                                      Aumento em depósitos 1.861                           3.052                           5.995                                Aumento (Redução) em passivos financeiros (50)                               (11)                               11                                      (Redução) em obrigações por empréstimos e repasses (358)                             (879)                             (1.308)                                 Provisão para riscos cíveis, tributários e trabalhistas -                               188                              -                                    Absorção de dispêndios pelo FATES (6)                                  (12)                               (15)                                    Aumento em outros passivos 1.689                           1.539                           1.140                              ATIVIDADES OPERACIONAIS - Caixa líquido proveniente/(aplicado) (1.426)                          (2.590)                          10.329                              Aquisição de investimentos - (50)                               (121)                                  Aquisição de imobilizado de uso (2)                                  (90)                               (24)                                    Aplicações no intangível (24)                               (46)                               (23)                                  ATIVIDADES DE INVESTIMENTOS - Caixa líquido proveniente/(aplicado) (26)                               (186)                             (168)                                  Integralização de capital 689                              1.380                           1.377                                Baixa de capital (225)                             (1.001)                          (876)                                  Juros ao capital próprio (24)                               (24)                               (55)                                    Distribuição de Sobras 46                                 (1.031)                          (935)                                ATIVIDADES DE FINANCIAMENTOS - Caixa líquido proveniente/(aplicado) 486                              (676)                             (489)                                AUMENTO/DIMINUIÇÃO LÍQUIDA DE CAIXA E EQUIVALENTE DE CAIXA (966)                             (3.452)                          9.672                              Caixa e equivalente de caixa no início do período 15.329                         17.815                         8.143                              Caixa e equivalente de caixa no fim do período        (Nota 04) 14.363                         14.363                         17.815                          As notas explicativas são parte integrante das Demonstrações FinanceirasDEMONSTRAÇÕES DOS FLUXOS DE CAIXA (Em milhares de Reais) Sicredi Coomamp - Coop de Crédito dos Memb de Insti Pub das Carreiras Jurid e Serv Pub Fed Estad e Munic em São  Luís/MA e Municípios Circunvizinhos CNPJ/MF nº 05.545.390/0001-0701/07/2021 a 31/12/2021  (Não  auditado)01/01/2021 a 31/12/2021 01/01/2020 a 31/12/2020 Resultado líquido do exercício 677                                                    1.201                                                 1.708                                                  Outros resultados abrangentes -                                                     -                                                     -                                                      Resultado abrangente atribuível 677                                                    1.201                                                 1.708                                                  As notas explicativas são parte integrante das Demonstrações FinanceirasDEMONSTRAÇÕES DOS RESULTADOS ABRANGENTES (Em milhares de Reais) Sicredi Coomamp - Coop de Crédito dos Memb de Insti --> Text length need to be between 0 and 5000 characters"
     ]
    }
   ],
   "source": [
    "import os\n",
    "from textwrap import wrap\n",
    "from translate import Translator\n",
    "\n",
    "# Diretórios de entrada e saída\n",
    "diretorio_entrada = 'data/nlp_normalized'\n",
    "diretorio_saida_ingles = 'data/nlp_normalized_english'\n",
    "\n",
    "# Inicializar o tradutor\n",
    "tradutor = Translator(to_lang='en', from_lang='pt')\n",
    "\n",
    "# Percorrer os arquivos de texto no diretório de entrada\n",
    "for pasta_raiz, _, arquivos in os.walk(diretorio_entrada):\n",
    "    for arquivo in arquivos:\n",
    "        if arquivo.endswith('.txt'):\n",
    "            caminho_completo_entrada = os.path.join(pasta_raiz, arquivo)\n",
    "            caminho_completo_saida = os.path.join(pasta_raiz.replace(diretorio_entrada, diretorio_saida_ingles), arquivo)\n",
    "\n",
    "            # Verificar se o arquivo já foi traduzido\n",
    "            if os.path.exists(caminho_completo_saida):\n",
    "                print(f\"O arquivo '{arquivo}' já foi traduzido. Indo para o próximo arquivo.\")\n",
    "                continue\n",
    "\n",
    "            print(f\"Traduzindo arquivo: {caminho_completo_entrada}\")\n",
    "\n",
    "            # Ler o conteúdo do arquivo de entrada\n",
    "            with open(caminho_completo_entrada, 'r', encoding='utf-8') as arquivo_entrada:\n",
    "                texto = arquivo_entrada.read()\n",
    "\n",
    "            # Dividir o texto em chunks menores\n",
    "            chunks_texto = wrap(texto, width=500)\n",
    "\n",
    "            # Traduzir cada chunk e combinar as traduções\n",
    "            chunks_traduzidos = []\n",
    "            for chunk in chunks_texto:\n",
    "                chunk_traduzido = tradutor.translate(chunk)\n",
    "                chunks_traduzidos.append(chunk_traduzido)\n",
    "\n",
    "            texto_traduzido = ' '.join(chunks_traduzidos)\n",
    "\n",
    "            # Criar diretório de saída se não existir\n",
    "            os.makedirs(os.path.dirname(caminho_completo_saida), exist_ok=True)\n",
    "\n",
    "            # Escrever o texto traduzido no arquivo de saída\n",
    "            with open(caminho_completo_saida, 'w', encoding='utf-8') as arquivo_saida:\n",
    "                arquivo_saida.write(texto_traduzido)\n",
    "\n",
    "            print(f\"Arquivo '{arquivo}' traduzido e salvo em: {caminho_completo_saida}\")\n"
   ]
  }
 ],
 "metadata": {
  "kernelspec": {
   "display_name": "Python 3",
   "language": "python",
   "name": "python3"
  },
  "language_info": {
   "codemirror_mode": {
    "name": "ipython",
    "version": 3
   },
   "file_extension": ".py",
   "mimetype": "text/x-python",
   "name": "python",
   "nbconvert_exporter": "python",
   "pygments_lexer": "ipython3",
   "version": "3.11.3"
  },
  "orig_nbformat": 4
 },
 "nbformat": 4,
 "nbformat_minor": 2
}
