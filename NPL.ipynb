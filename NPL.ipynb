{
 "cells": [
  {
   "cell_type": "code",
   "execution_count": 2,
   "metadata": {},
   "outputs": [
    {
     "name": "stdout",
     "output_type": "stream",
     "text": [
      "Folder Name                            PDF Count\n",
      "-----------------------------------  -----------\n",
      "SICREDI CAMPOS GERAIS E GRANDE CURI           89\n",
      "COOP SICREDI ARAXINGÚ                         31\n",
      "SICREDI CEARÁ                                 28\n",
      "COOP SICREDI NORTE                            26\n",
      "COOP SICREDI NORTE SC                         26\n",
      "COOP SICREDI CELEIRO OESTE                    24\n",
      "COOP SICREDI UNIÃO METROPOLITANA              21\n",
      "COOP SICREDI EVOLUÇÃO                         19\n",
      "COOP SICREDI VALE SÃO FRANCISCO               18\n",
      "COOP SICREDI SUDOESTE MT_PA                   17\n",
      "CC SICREDI COOMAMP                            16\n",
      "COOP SICREDI FORÇA DOS VENTOS                 16\n",
      "COOP SICREDI ROTA DAS TERRAS RS_MG            15\n",
      "COOP SICREDI ARACAJU                          13\n",
      "COOP SICREDI CAMPO GRANDE                     13\n",
      "COOP SICREDI INTEGRAÇÃO RS_MG                 13\n",
      "SICREDI CREDUNI                               13\n",
      "COOP SICREDI CENT PERNAMBUCANA                10\n",
      "COOP SICREDI CULTURAS RS_MG                   10\n",
      "COOP SICREDI UNIÃO RS                         10\n",
      "COOP SICREDI VL DO CERRADO                    10\n",
      "SICREDI RECIFE                                10\n",
      "COOP SICREDI INTEGRAÇÃO BAHIA                  9\n",
      "COOP SICREDI CEN OEST PAULISTA                 8\n",
      "COOP SICREDI SUL MINAS RS_MG                   8\n",
      "COOP SICREDI VALE DO RIO PARDO                 8\n",
      "COOP SICREDI COOPERJURIS                       7\n",
      "COOP SICREDI INTEGRAÇÃO MT_AP_PA               7\n",
      "COOP SICREDI OURO VERDE MT                     7\n",
      "COOP SICREDI PROGRESSO PR_SP                   7\n",
      "COOP SICREDI RIO RJ                            7\n",
      "COOP SICREDI VL JAGUA ZN MATA                  7\n",
      "COOP SICREDI BIOMAS                            6\n",
      "COOP SICREDI CENTRO LESTE RS                   6\n",
      "COOP SICREDI CERRADO GO                        6\n",
      "COOP SICREDI INTERESTADOS RS_ES                6\n",
      "COOP SICREDI REG CENTRO RS_MG                  6\n",
      "COOP SICREDI REG PROD RS_SC_MG                 6\n",
      "COOP SICREDI RIO GRANDE DO NORTE               6\n",
      "COOP SICREDI UNIVALES MT_RO                    6\n",
      "COOP SICREDI CELEIRO DO MT                     5\n",
      "COOP SICREDI IGUAÇU PR_SC_SP                   5\n",
      "COOP SICREDI PLAN CENTRAL                      5\n",
      "COOP SICREDI PLANALT DAS ÁGUAS                 5\n",
      "COOP SICREDI RAIZES RS_SC_MG                   5\n",
      "COOP SICREDI SUL DO MARANHÃO                   5\n",
      "COOP SICREDI VALE LITORAL SC                   5\n",
      "COOP SICREDI VLR SUSTENT PR_SP                 5\n",
      "COOP SICREDI ALIANÇA                           4\n",
      "COOP SICREDI ALIANÇA RS_SC                     4\n",
      "COOP SICREDI ALT SERRA RS_SC                   4\n",
      "COOP SICREDI CAMINHO DAS ÁGUAS RS              4\n",
      "COOP SICREDI CENTRO-SUL MS_BA                  4\n",
      "COOP SICREDI NOSSA TERRA PR_SP                 4\n",
      "COOP SICREDI SUL SC                            4\n",
      "COOP SICREDI SÃO LUÍS                          4\n",
      "COOP SICREDI VALE DO PIQUIRI                   4\n",
      "COOP POL FED - SICREDI POL                     3\n",
      "COOP SICREDI AGROEMPRESARIAL                   3\n",
      "COOP SICREDI FRONTEIR PR_SC_SP                 3\n",
      "COOP SICREDI PANTANAL                          3\n",
      "COOP SICREDI UNIESTADOS                        3\n",
      "COOP SICREDI VANGUARDA PR_SP_RJ                3\n",
      "SICREDI INTEGRAÇÃO DE ESTADOS RS_SC            3\n",
      "COOP SICREDI COOPERUCS                         2\n",
      "COOP SICREDI EXPANSÃO                          2\n",
      "COOP SICREDI INTEGRAÇÃO PR_SC                  2\n",
      "COOP SICREDI MIL                               2\n",
      "COOP SICREDI PARANAPANEMA SERRANA P            2\n",
      "COOP SICREDI REGIÃO DOS VALES                  2\n",
      "COOP SICREDI ALTA NOROESTE SP                  1\n",
      "COOP SICREDI ALTSERTÃO PARAIBANO               1\n",
      "COOP SICREDI CENT SUL PR_SC_RJ                 1\n",
      "COOP SICREDI CENTRO SERRA                      1\n",
      "COOP SICREDI COOABCRED RS                      1\n",
      "COOP SICREDI CREDIGRANDE                       1\n",
      "COOP SICREDI GRANDES RIOS                      1\n",
      ".git                                           0\n",
      "COOP SICREDI ESPUMOSO RS_MG                    0\n",
      "COOP SICREDI PLANALTO RS_MG                    0\n"
     ]
    }
   ],
   "source": [
    "import os\n",
    "from tabulate import tabulate\n",
    "\n",
    "# Define a function to count PDF files in a folder\n",
    "def count_pdf_files(folder):\n",
    "    pdf_count = 0\n",
    "    for file in os.listdir(folder):\n",
    "        if file.endswith('.pdf'):\n",
    "            pdf_count += 1\n",
    "    return pdf_count\n",
    "\n",
    "# Define the root directory where the folders are located\n",
    "root_directory = './'  # Update this with the path to the root directory if needed\n",
    "\n",
    "# List all directories in the root directory\n",
    "directories = [d for d in os.listdir(root_directory) if os.path.isdir(os.path.join(root_directory, d))]\n",
    "\n",
    "# Create a list to store folder names and their respective PDF counts\n",
    "folder_pdf_counts = []\n",
    "\n",
    "# Iterate over each directory\n",
    "for directory in directories:\n",
    "    pdf_count = count_pdf_files(os.path.join(root_directory, directory))\n",
    "    folder_pdf_counts.append([directory, pdf_count])\n",
    "\n",
    "# Sort the folder PDF counts list by PDF count\n",
    "folder_pdf_counts.sort(key=lambda x: x[1], reverse=True)\n",
    "\n",
    "# Print the table\n",
    "print(tabulate(folder_pdf_counts, headers=['Folder Name', 'PDF Count']))\n"
   ]
  },
  {
   "cell_type": "code",
   "execution_count": 6,
   "metadata": {},
   "outputs": [],
   "source": [
    "import os\n",
    "\n",
    "# Define the relative path where the folders are located\n",
    "base_path = \"..\\Sicredi\"\n",
    "\n",
    "# Get a list of folders in the base path\n",
    "folders = [folder for folder in os.listdir(base_path) if os.path.isdir(os.path.join(base_path, folder))]\n",
    "\n",
    "# Iterate through each folder and create a \"txt\" subfolder\n",
    "for folder in folders:\n",
    "    subfolder_path = os.path.join(base_path, folder, \"txt\")\n",
    "    os.makedirs(subfolder_path, exist_ok=True)\n"
   ]
  },
  {
   "cell_type": "code",
   "execution_count": 9,
   "metadata": {},
   "outputs": [
    {
     "name": "stdout",
     "output_type": "stream",
     "text": [
      "Collecting PyPDF2\n",
      "  Downloading pypdf2-3.0.1-py3-none-any.whl (232 kB)\n",
      "     ---------------------------------------- 0.0/232.6 kB ? eta -:--:--\n",
      "     --------------------------------- ---- 204.8/232.6 kB 6.1 MB/s eta 0:00:01\n",
      "     -------------------------------------- 232.6/232.6 kB 2.9 MB/s eta 0:00:00\n",
      "Installing collected packages: PyPDF2\n",
      "Successfully installed PyPDF2-3.0.1\n",
      "Note: you may need to restart the kernel to use updated packages.\n"
     ]
    },
    {
     "name": "stderr",
     "output_type": "stream",
     "text": [
      "\n",
      "[notice] A new release of pip is available: 23.3.1 -> 24.0\n",
      "[notice] To update, run: python.exe -m pip install --upgrade pip\n"
     ]
    }
   ],
   "source": [
    "pip install PyPDF2"
   ]
  },
  {
   "cell_type": "code",
   "execution_count": 12,
   "metadata": {},
   "outputs": [
    {
     "ename": "PdfReadError",
     "evalue": "EOF marker not found",
     "output_type": "error",
     "traceback": [
      "\u001b[1;31m---------------------------------------------------------------------------\u001b[0m",
      "\u001b[1;31mPdfReadError\u001b[0m                              Traceback (most recent call last)",
      "Cell \u001b[1;32mIn[12], line 27\u001b[0m\n\u001b[0;32m     24\u001b[0m \u001b[39m# Open the PDF file\u001b[39;00m\n\u001b[0;32m     25\u001b[0m \u001b[39mwith\u001b[39;00m \u001b[39mopen\u001b[39m(pdf_file_path, \u001b[39m\"\u001b[39m\u001b[39mrb\u001b[39m\u001b[39m\"\u001b[39m) \u001b[39mas\u001b[39;00m file:\n\u001b[0;32m     26\u001b[0m     \u001b[39m# Create a PDF reader object\u001b[39;00m\n\u001b[1;32m---> 27\u001b[0m     pdf_reader \u001b[39m=\u001b[39m PdfReader(pdf_file_path)\n\u001b[0;32m     29\u001b[0m     \u001b[39m# Extract text from each page of the PDF\u001b[39;00m\n\u001b[0;32m     30\u001b[0m     text \u001b[39m=\u001b[39m \u001b[39m\"\u001b[39m\u001b[39m\"\u001b[39m\n",
      "File \u001b[1;32mc:\\Users\\mjzag\\AppData\\Local\\Programs\\Python\\Python311\\Lib\\site-packages\\PyPDF2\\_reader.py:319\u001b[0m, in \u001b[0;36mPdfReader.__init__\u001b[1;34m(self, stream, strict, password)\u001b[0m\n\u001b[0;32m    317\u001b[0m     \u001b[39mwith\u001b[39;00m \u001b[39mopen\u001b[39m(stream, \u001b[39m\"\u001b[39m\u001b[39mrb\u001b[39m\u001b[39m\"\u001b[39m) \u001b[39mas\u001b[39;00m fh:\n\u001b[0;32m    318\u001b[0m         stream \u001b[39m=\u001b[39m BytesIO(fh\u001b[39m.\u001b[39mread())\n\u001b[1;32m--> 319\u001b[0m \u001b[39mself\u001b[39;49m\u001b[39m.\u001b[39;49mread(stream)\n\u001b[0;32m    320\u001b[0m \u001b[39mself\u001b[39m\u001b[39m.\u001b[39mstream \u001b[39m=\u001b[39m stream\n\u001b[0;32m    322\u001b[0m \u001b[39mself\u001b[39m\u001b[39m.\u001b[39m_override_encryption \u001b[39m=\u001b[39m \u001b[39mFalse\u001b[39;00m\n",
      "File \u001b[1;32mc:\\Users\\mjzag\\AppData\\Local\\Programs\\Python\\Python311\\Lib\\site-packages\\PyPDF2\\_reader.py:1415\u001b[0m, in \u001b[0;36mPdfReader.read\u001b[1;34m(self, stream)\u001b[0m\n\u001b[0;32m   1413\u001b[0m \u001b[39mdef\u001b[39;00m \u001b[39mread\u001b[39m(\u001b[39mself\u001b[39m, stream: StreamType) \u001b[39m-\u001b[39m\u001b[39m>\u001b[39m \u001b[39mNone\u001b[39;00m:\n\u001b[0;32m   1414\u001b[0m     \u001b[39mself\u001b[39m\u001b[39m.\u001b[39m_basic_validation(stream)\n\u001b[1;32m-> 1415\u001b[0m     \u001b[39mself\u001b[39;49m\u001b[39m.\u001b[39;49m_find_eof_marker(stream)\n\u001b[0;32m   1416\u001b[0m     startxref \u001b[39m=\u001b[39m \u001b[39mself\u001b[39m\u001b[39m.\u001b[39m_find_startxref_pos(stream)\n\u001b[0;32m   1418\u001b[0m     \u001b[39m# check and eventually correct the startxref only in not strict\u001b[39;00m\n",
      "File \u001b[1;32mc:\\Users\\mjzag\\AppData\\Local\\Programs\\Python\\Python311\\Lib\\site-packages\\PyPDF2\\_reader.py:1471\u001b[0m, in \u001b[0;36mPdfReader._find_eof_marker\u001b[1;34m(self, stream)\u001b[0m\n\u001b[0;32m   1469\u001b[0m \u001b[39mwhile\u001b[39;00m line[:\u001b[39m5\u001b[39m] \u001b[39m!=\u001b[39m \u001b[39mb\u001b[39m\u001b[39m\"\u001b[39m\u001b[39m%%\u001b[39;00m\u001b[39mEOF\u001b[39m\u001b[39m\"\u001b[39m:\n\u001b[0;32m   1470\u001b[0m     \u001b[39mif\u001b[39;00m stream\u001b[39m.\u001b[39mtell() \u001b[39m<\u001b[39m last_mb:\n\u001b[1;32m-> 1471\u001b[0m         \u001b[39mraise\u001b[39;00m PdfReadError(\u001b[39m\"\u001b[39m\u001b[39mEOF marker not found\u001b[39m\u001b[39m\"\u001b[39m)\n\u001b[0;32m   1472\u001b[0m     line \u001b[39m=\u001b[39m read_previous_line(stream)\n",
      "\u001b[1;31mPdfReadError\u001b[0m: EOF marker not found"
     ]
    }
   ],
   "source": [
    "import os\n",
    "from PyPDF2 import PdfReader\n",
    "\n",
    "# Define the relative path where the folders are located\n",
    "base_path = \"..\\Sicredi\"\n",
    "\n",
    "# Get a list of folders in the base path\n",
    "folders = [folder for folder in os.listdir(base_path) if os.path.isdir(os.path.join(base_path, folder))]\n",
    "\n",
    "# Iterate through each folder\n",
    "for folder in folders:\n",
    "    # Define the path to the \"txt\" subfolder\n",
    "    txt_folder_path = os.path.join(base_path, folder, \"txt\")\n",
    "    \n",
    "    # Create the \"txt\" subfolder if it doesn't exist\n",
    "    os.makedirs(txt_folder_path, exist_ok=True)\n",
    "    \n",
    "    # Iterate through each PDF file in the current folder\n",
    "    pdf_files = [file for file in os.listdir(os.path.join(base_path, folder)) if file.endswith(\".pdf\")]\n",
    "    for pdf_file in pdf_files:\n",
    "        # Define the path to the PDF file\n",
    "        pdf_file_path = os.path.join(base_path, folder, pdf_file)\n",
    "        \n",
    "        # Open the PDF file\n",
    "        with open(pdf_file_path, \"rb\") as file:\n",
    "            # Create a PDF reader object\n",
    "            pdf_reader = PdfReader(pdf_file_path)\n",
    "            \n",
    "            # Extract text from each page of the PDF\n",
    "            text = \"\"\n",
    "            for page in pdf_reader.pages:\n",
    "                text += page.extract_text()\n",
    "            \n",
    "            # Define the path to save the extracted text as a .txt file\n",
    "            txt_file_path = os.path.join(txt_folder_path, os.path.splitext(pdf_file)[0] + \".txt\")\n",
    "            \n",
    "            # Write the extracted text to the .txt file\n",
    "            with open(txt_file_path, \"w\", encoding=\"utf-8\") as txt_file:\n",
    "                txt_file.write(text)\n"
   ]
  },
  {
   "cell_type": "code",
   "execution_count": 17,
   "metadata": {},
   "outputs": [
    {
     "name": "stdout",
     "output_type": "stream",
     "text": [
      "Collecting pdf2image\n",
      "  Downloading pdf2image-1.17.0-py3-none-any.whl.metadata (6.2 kB)\n",
      "Requirement already satisfied: pillow in c:\\users\\mjzag\\appdata\\local\\programs\\python\\python311\\lib\\site-packages (from pdf2image) (10.0.0)\n",
      "Downloading pdf2image-1.17.0-py3-none-any.whl (11 kB)\n",
      "Installing collected packages: pdf2image\n",
      "Successfully installed pdf2image-1.17.0\n",
      "Note: you may need to restart the kernel to use updated packages.\n"
     ]
    },
    {
     "name": "stderr",
     "output_type": "stream",
     "text": [
      "\n",
      "[notice] A new release of pip is available: 23.3.1 -> 24.0\n",
      "[notice] To update, run: python.exe -m pip install --upgrade pip\n"
     ]
    }
   ],
   "source": [
    "pip install pdf2image"
   ]
  },
  {
   "cell_type": "code",
   "execution_count": 18,
   "metadata": {},
   "outputs": [
    {
     "ename": "PdfReadError",
     "evalue": "EOF marker not found",
     "output_type": "error",
     "traceback": [
      "\u001b[1;31m---------------------------------------------------------------------------\u001b[0m",
      "\u001b[1;31mPdfReadError\u001b[0m                              Traceback (most recent call last)",
      "Cell \u001b[1;32mIn[18], line 33\u001b[0m\n\u001b[0;32m     30\u001b[0m \u001b[39m# Open the PDF file\u001b[39;00m\n\u001b[0;32m     31\u001b[0m \u001b[39mwith\u001b[39;00m \u001b[39mopen\u001b[39m(pdf_file_path, \u001b[39m\"\u001b[39m\u001b[39mrb\u001b[39m\u001b[39m\"\u001b[39m) \u001b[39mas\u001b[39;00m file:\n\u001b[0;32m     32\u001b[0m     \u001b[39m# Check if the PDF has text content\u001b[39;00m\n\u001b[1;32m---> 33\u001b[0m     pdf_reader \u001b[39m=\u001b[39m PdfReader(file)\n\u001b[0;32m     34\u001b[0m     \u001b[39mif\u001b[39;00m pdf_reader\u001b[39m.\u001b[39mis_encrypted:\n\u001b[0;32m     35\u001b[0m         \u001b[39m# If encrypted, we cannot extract text directly, so we'll use OCR\u001b[39;00m\n\u001b[0;32m     36\u001b[0m         images \u001b[39m=\u001b[39m convert_from_path(pdf_file_path)\n",
      "File \u001b[1;32mc:\\Users\\mjzag\\AppData\\Local\\Programs\\Python\\Python311\\Lib\\site-packages\\PyPDF2\\_reader.py:319\u001b[0m, in \u001b[0;36mPdfReader.__init__\u001b[1;34m(self, stream, strict, password)\u001b[0m\n\u001b[0;32m    317\u001b[0m     \u001b[39mwith\u001b[39;00m \u001b[39mopen\u001b[39m(stream, \u001b[39m\"\u001b[39m\u001b[39mrb\u001b[39m\u001b[39m\"\u001b[39m) \u001b[39mas\u001b[39;00m fh:\n\u001b[0;32m    318\u001b[0m         stream \u001b[39m=\u001b[39m BytesIO(fh\u001b[39m.\u001b[39mread())\n\u001b[1;32m--> 319\u001b[0m \u001b[39mself\u001b[39;49m\u001b[39m.\u001b[39;49mread(stream)\n\u001b[0;32m    320\u001b[0m \u001b[39mself\u001b[39m\u001b[39m.\u001b[39mstream \u001b[39m=\u001b[39m stream\n\u001b[0;32m    322\u001b[0m \u001b[39mself\u001b[39m\u001b[39m.\u001b[39m_override_encryption \u001b[39m=\u001b[39m \u001b[39mFalse\u001b[39;00m\n",
      "File \u001b[1;32mc:\\Users\\mjzag\\AppData\\Local\\Programs\\Python\\Python311\\Lib\\site-packages\\PyPDF2\\_reader.py:1415\u001b[0m, in \u001b[0;36mPdfReader.read\u001b[1;34m(self, stream)\u001b[0m\n\u001b[0;32m   1413\u001b[0m \u001b[39mdef\u001b[39;00m \u001b[39mread\u001b[39m(\u001b[39mself\u001b[39m, stream: StreamType) \u001b[39m-\u001b[39m\u001b[39m>\u001b[39m \u001b[39mNone\u001b[39;00m:\n\u001b[0;32m   1414\u001b[0m     \u001b[39mself\u001b[39m\u001b[39m.\u001b[39m_basic_validation(stream)\n\u001b[1;32m-> 1415\u001b[0m     \u001b[39mself\u001b[39;49m\u001b[39m.\u001b[39;49m_find_eof_marker(stream)\n\u001b[0;32m   1416\u001b[0m     startxref \u001b[39m=\u001b[39m \u001b[39mself\u001b[39m\u001b[39m.\u001b[39m_find_startxref_pos(stream)\n\u001b[0;32m   1418\u001b[0m     \u001b[39m# check and eventually correct the startxref only in not strict\u001b[39;00m\n",
      "File \u001b[1;32mc:\\Users\\mjzag\\AppData\\Local\\Programs\\Python\\Python311\\Lib\\site-packages\\PyPDF2\\_reader.py:1471\u001b[0m, in \u001b[0;36mPdfReader._find_eof_marker\u001b[1;34m(self, stream)\u001b[0m\n\u001b[0;32m   1469\u001b[0m \u001b[39mwhile\u001b[39;00m line[:\u001b[39m5\u001b[39m] \u001b[39m!=\u001b[39m \u001b[39mb\u001b[39m\u001b[39m\"\u001b[39m\u001b[39m%%\u001b[39;00m\u001b[39mEOF\u001b[39m\u001b[39m\"\u001b[39m:\n\u001b[0;32m   1470\u001b[0m     \u001b[39mif\u001b[39;00m stream\u001b[39m.\u001b[39mtell() \u001b[39m<\u001b[39m last_mb:\n\u001b[1;32m-> 1471\u001b[0m         \u001b[39mraise\u001b[39;00m PdfReadError(\u001b[39m\"\u001b[39m\u001b[39mEOF marker not found\u001b[39m\u001b[39m\"\u001b[39m)\n\u001b[0;32m   1472\u001b[0m     line \u001b[39m=\u001b[39m read_previous_line(stream)\n",
      "\u001b[1;31mPdfReadError\u001b[0m: EOF marker not found"
     ]
    }
   ],
   "source": [
    "import os\n",
    "import pytesseract\n",
    "from pdf2image import convert_from_path\n",
    "from PyPDF2 import PdfReader\n",
    "\n",
    "# Set the language for OCR to Portuguese\n",
    "pytesseract.pytesseract.tesseract_cmd = r'C:\\Program Files\\Tesseract-OCR\\tesseract.exe'\n",
    "custom_config = r'--oem 3 --psm 6 -l por'\n",
    "\n",
    "# Define the relative path where the folders are located\n",
    "base_path = \"..\\Sicredi\"\n",
    "\n",
    "# Get a list of folders in the base path\n",
    "folders = [folder for folder in os.listdir(base_path) if os.path.isdir(os.path.join(base_path, folder))]\n",
    "\n",
    "# Iterate through each folder\n",
    "for folder in folders:\n",
    "    # Define the path to the \"txt\" subfolder\n",
    "    txt_folder_path = os.path.join(base_path, folder, \"txt\")\n",
    "    \n",
    "    # Create the \"txt\" subfolder if it doesn't exist\n",
    "    os.makedirs(txt_folder_path, exist_ok=True)\n",
    "    \n",
    "    # Iterate through each PDF file in the current folder\n",
    "    pdf_files = [file for file in os.listdir(os.path.join(base_path, folder)) if file.endswith(\".pdf\")]\n",
    "    for pdf_file in pdf_files:\n",
    "        # Define the path to the PDF file\n",
    "        pdf_file_path = os.path.join(base_path, folder, pdf_file)\n",
    "        \n",
    "        # Open the PDF file\n",
    "        with open(pdf_file_path, \"rb\") as file:\n",
    "            # Check if the PDF has text content\n",
    "            pdf_reader = PdfReader(file)\n",
    "            if pdf_reader.is_encrypted:\n",
    "                # If encrypted, we cannot extract text directly, so we'll use OCR\n",
    "                images = convert_from_path(pdf_file_path)\n",
    "                text = \"\"\n",
    "                for img in images:\n",
    "                    text += pytesseract.image_to_string(img, config=custom_config)\n",
    "            else:\n",
    "                # If not encrypted, extract text directly\n",
    "                text = \"\"\n",
    "                for page in pdf_reader.pages:\n",
    "                    text += page.extract_text()\n",
    "            \n",
    "            # Define the path to save the extracted text as a .txt file\n",
    "            txt_file_path = os.path.join(txt_folder_path, os.path.splitext(pdf_file)[0] + \".txt\")\n",
    "            \n",
    "            # Write the extracted text to the .txt file\n",
    "            with open(txt_file_path, \"w\", encoding=\"utf-8\") as txt_file:\n",
    "                txt_file.write(text)\n"
   ]
  },
  {
   "cell_type": "code",
   "execution_count": 19,
   "metadata": {},
   "outputs": [
    {
     "name": "stdout",
     "output_type": "stream",
     "text": [
      "Requirement already satisfied: PyPDF2 in c:\\users\\mjzag\\appdata\\local\\programs\\python\\python311\\lib\\site-packages (3.0.1)\n",
      "Note: you may need to restart the kernel to use updated packages.\n"
     ]
    },
    {
     "name": "stderr",
     "output_type": "stream",
     "text": [
      "\n",
      "[notice] A new release of pip is available: 23.3.1 -> 24.0\n",
      "[notice] To update, run: python.exe -m pip install --upgrade pip\n"
     ]
    }
   ],
   "source": [
    "pip install --upgrade PyPDF2\n"
   ]
  },
  {
   "cell_type": "code",
   "execution_count": 24,
   "metadata": {},
   "outputs": [
    {
     "name": "stdout",
     "output_type": "stream",
     "text": [
      "Error processing PDF file 'ata_e_estatuto_social_2020.pdf': EOF marker not found\n",
      "Error processing PDF file 'relatorio_do_auditor_-_coop_2001_-_ano_2022.pdf': PyCryptodome is required for AES algorithm\n",
      "Error processing PDF file 'relatorio_do_auditor_-_coop_2001_-_ano_2022.pdf': PyCryptodome is required for AES algorithm\n"
     ]
    },
    {
     "name": "stderr",
     "output_type": "stream",
     "text": [
      "Multiple definitions in dictionary at byte 0x57df3 for key /.notdef\n",
      "Multiple definitions in dictionary at byte 0x577d7 for key /.notdef\n",
      "Multiple definitions in dictionary at byte 0x57878 for key /.notdef\n",
      "Multiple definitions in dictionary at byte 0x54e7b for key /.notdef\n",
      "Multiple definitions in dictionary at byte 0x56482 for key /.notdef\n",
      "Multiple definitions in dictionary at byte 0x55548 for key /.notdef\n",
      "Multiple definitions in dictionary at byte 0x56b6b for key /.notdef\n",
      "Multiple definitions in dictionary at byte 0x571ce for key /.notdef\n",
      "Multiple definitions in dictionary at byte 0x55d30 for key /.notdef\n"
     ]
    },
    {
     "name": "stdout",
     "output_type": "stream",
     "text": [
      "Error processing PDF file 'relatorio_de_auditoria_coop_0116-3173824883155145447.pdf': PyCryptodome is required for AES algorithm\n",
      "Error processing PDF file 'relatorio_de_auditoria_coop_2203.pdf': PyCryptodome is required for AES algorithm\n",
      "Text extraction completed.\n"
     ]
    }
   ],
   "source": [
    "from PyPDF2 import PdfReader\n",
    "import os\n",
    "\n",
    "# Iterate through each folder and create a \"txt\" subfolder\n",
    "for folder in folders:\n",
    "    txt_folder = os.path.join(base_path, folder, \"txt\")\n",
    "    os.makedirs(txt_folder, exist_ok=True)\n",
    "    \n",
    "    # Get a list of PDF files in the current folder\n",
    "    pdf_files = [f for f in os.listdir(os.path.join(base_path, folder)) if f.endswith(\".pdf\")]\n",
    "\n",
    "    # Iterate through each PDF file in the folder\n",
    "    for pdf_file in pdf_files:\n",
    "        pdf_file_path = os.path.join(base_path, folder, pdf_file)\n",
    "        txt_file_path = os.path.join(txt_folder, os.path.splitext(pdf_file)[0] + \".txt\")\n",
    "        \n",
    "        # Open the PDF file\n",
    "        try:\n",
    "            with open(pdf_file_path, \"rb\") as file:\n",
    "                pdf_reader = PdfReader(file)\n",
    "                num_pages = len(pdf_reader.pages)\n",
    "                \n",
    "                # Extract text from each page of the PDF\n",
    "                pdf_text = \"\"\n",
    "                for page in pdf_reader.pages:\n",
    "                    pdf_text += page.extract_text()\n",
    "                \n",
    "                # Write extracted text to a TXT file\n",
    "                with open(txt_file_path, \"w\", encoding=\"utf-8\") as txt_file:\n",
    "                    txt_file.write(pdf_text)\n",
    "        except Exception as e:\n",
    "            print(f\"Error processing PDF file '{pdf_file}': {e}\")\n",
    "            \n",
    "print(\"Text extraction completed.\")\n"
   ]
  }
 ],
 "metadata": {
  "kernelspec": {
   "display_name": "Python 3",
   "language": "python",
   "name": "python3"
  },
  "language_info": {
   "codemirror_mode": {
    "name": "ipython",
    "version": 3
   },
   "file_extension": ".py",
   "mimetype": "text/x-python",
   "name": "python",
   "nbconvert_exporter": "python",
   "pygments_lexer": "ipython3",
   "version": "3.11.3"
  },
  "orig_nbformat": 4
 },
 "nbformat": 4,
 "nbformat_minor": 2
}
